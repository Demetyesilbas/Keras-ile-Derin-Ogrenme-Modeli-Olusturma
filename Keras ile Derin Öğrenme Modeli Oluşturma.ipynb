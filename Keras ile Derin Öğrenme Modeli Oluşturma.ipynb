{
 "cells": [
  {
   "cell_type": "code",
   "execution_count": 2,
   "metadata": {},
   "outputs": [
    {
     "data": {
      "text/html": [
       "<div>\n",
       "<style scoped>\n",
       "    .dataframe tbody tr th:only-of-type {\n",
       "        vertical-align: middle;\n",
       "    }\n",
       "\n",
       "    .dataframe tbody tr th {\n",
       "        vertical-align: top;\n",
       "    }\n",
       "\n",
       "    .dataframe thead th {\n",
       "        text-align: right;\n",
       "    }\n",
       "</style>\n",
       "<table border=\"1\" class=\"dataframe\">\n",
       "  <thead>\n",
       "    <tr style=\"text-align: right;\">\n",
       "      <th></th>\n",
       "      <th>Type</th>\n",
       "      <th>Autocorrelation</th>\n",
       "      <th>Contrast</th>\n",
       "      <th>Correlation</th>\n",
       "      <th>ClusterProminence</th>\n",
       "      <th>ClusterShade</th>\n",
       "      <th>Dissimilarity</th>\n",
       "      <th>Energy</th>\n",
       "      <th>Entropy</th>\n",
       "      <th>Homogeneity</th>\n",
       "      <th>MaximumProbability</th>\n",
       "      <th>Variance</th>\n",
       "      <th>Kurtosis</th>\n",
       "      <th>Skewness</th>\n",
       "      <th>Mean</th>\n",
       "      <th>StandartDeviation</th>\n",
       "      <th>RMS</th>\n",
       "    </tr>\n",
       "  </thead>\n",
       "  <tbody>\n",
       "    <tr>\n",
       "      <th>0</th>\n",
       "      <td>1</td>\n",
       "      <td>4.854814</td>\n",
       "      <td>0.182667</td>\n",
       "      <td>0.945454</td>\n",
       "      <td>211.385247</td>\n",
       "      <td>26.411996</td>\n",
       "      <td>0.135570</td>\n",
       "      <td>0.425349</td>\n",
       "      <td>1.535685</td>\n",
       "      <td>0.938705</td>\n",
       "      <td>0.635355</td>\n",
       "      <td>4.889867</td>\n",
       "      <td>4.003269</td>\n",
       "      <td>1.344533</td>\n",
       "      <td>32.611042</td>\n",
       "      <td>47.105240</td>\n",
       "      <td>10.050342</td>\n",
       "    </tr>\n",
       "    <tr>\n",
       "      <th>1</th>\n",
       "      <td>1</td>\n",
       "      <td>3.276670</td>\n",
       "      <td>0.114522</td>\n",
       "      <td>0.942021</td>\n",
       "      <td>161.956366</td>\n",
       "      <td>19.688291</td>\n",
       "      <td>0.086642</td>\n",
       "      <td>0.476887</td>\n",
       "      <td>1.245438</td>\n",
       "      <td>0.960666</td>\n",
       "      <td>0.658931</td>\n",
       "      <td>3.286307</td>\n",
       "      <td>7.513100</td>\n",
       "      <td>1.968529</td>\n",
       "      <td>24.393337</td>\n",
       "      <td>37.242781</td>\n",
       "      <td>9.766383</td>\n",
       "    </tr>\n",
       "    <tr>\n",
       "      <th>2</th>\n",
       "      <td>1</td>\n",
       "      <td>4.814982</td>\n",
       "      <td>0.175214</td>\n",
       "      <td>0.943163</td>\n",
       "      <td>156.388801</td>\n",
       "      <td>20.823589</td>\n",
       "      <td>0.141368</td>\n",
       "      <td>0.384039</td>\n",
       "      <td>1.608861</td>\n",
       "      <td>0.934307</td>\n",
       "      <td>0.598212</td>\n",
       "      <td>4.845540</td>\n",
       "      <td>3.656900</td>\n",
       "      <td>1.208342</td>\n",
       "      <td>33.584270</td>\n",
       "      <td>44.876064</td>\n",
       "      <td>10.599269</td>\n",
       "    </tr>\n",
       "    <tr>\n",
       "      <th>3</th>\n",
       "      <td>1</td>\n",
       "      <td>5.304841</td>\n",
       "      <td>0.172112</td>\n",
       "      <td>0.949841</td>\n",
       "      <td>194.125504</td>\n",
       "      <td>23.646399</td>\n",
       "      <td>0.134229</td>\n",
       "      <td>0.371940</td>\n",
       "      <td>1.622887</td>\n",
       "      <td>0.938532</td>\n",
       "      <td>0.579090</td>\n",
       "      <td>5.331232</td>\n",
       "      <td>3.564394</td>\n",
       "      <td>1.144827</td>\n",
       "      <td>36.362152</td>\n",
       "      <td>47.390626</td>\n",
       "      <td>10.686207</td>\n",
       "    </tr>\n",
       "    <tr>\n",
       "      <th>4</th>\n",
       "      <td>1</td>\n",
       "      <td>4.814698</td>\n",
       "      <td>0.155377</td>\n",
       "      <td>0.944951</td>\n",
       "      <td>127.991536</td>\n",
       "      <td>16.712057</td>\n",
       "      <td>0.124962</td>\n",
       "      <td>0.352423</td>\n",
       "      <td>1.610988</td>\n",
       "      <td>0.941825</td>\n",
       "      <td>0.557698</td>\n",
       "      <td>4.834325</td>\n",
       "      <td>3.442860</td>\n",
       "      <td>1.052722</td>\n",
       "      <td>34.836880</td>\n",
       "      <td>43.428109</td>\n",
       "      <td>10.892309</td>\n",
       "    </tr>\n",
       "  </tbody>\n",
       "</table>\n",
       "</div>"
      ],
      "text/plain": [
       "   Type  Autocorrelation  Contrast  Correlation  ClusterProminence  \\\n",
       "0     1         4.854814  0.182667     0.945454         211.385247   \n",
       "1     1         3.276670  0.114522     0.942021         161.956366   \n",
       "2     1         4.814982  0.175214     0.943163         156.388801   \n",
       "3     1         5.304841  0.172112     0.949841         194.125504   \n",
       "4     1         4.814698  0.155377     0.944951         127.991536   \n",
       "\n",
       "   ClusterShade  Dissimilarity    Energy   Entropy  Homogeneity  \\\n",
       "0     26.411996       0.135570  0.425349  1.535685     0.938705   \n",
       "1     19.688291       0.086642  0.476887  1.245438     0.960666   \n",
       "2     20.823589       0.141368  0.384039  1.608861     0.934307   \n",
       "3     23.646399       0.134229  0.371940  1.622887     0.938532   \n",
       "4     16.712057       0.124962  0.352423  1.610988     0.941825   \n",
       "\n",
       "   MaximumProbability  Variance  Kurtosis  Skewness       Mean  \\\n",
       "0            0.635355  4.889867  4.003269  1.344533  32.611042   \n",
       "1            0.658931  3.286307  7.513100  1.968529  24.393337   \n",
       "2            0.598212  4.845540  3.656900  1.208342  33.584270   \n",
       "3            0.579090  5.331232  3.564394  1.144827  36.362152   \n",
       "4            0.557698  4.834325  3.442860  1.052722  34.836880   \n",
       "\n",
       "   StandartDeviation        RMS  \n",
       "0          47.105240  10.050342  \n",
       "1          37.242781   9.766383  \n",
       "2          44.876064  10.599269  \n",
       "3          47.390626  10.686207  \n",
       "4          43.428109  10.892309  "
      ]
     },
     "execution_count": 2,
     "metadata": {},
     "output_type": "execute_result"
    }
   ],
   "source": [
    "import pandas as pd\n",
    "#read in data using pandas\n",
    "train_df = pd.read_csv('Downloads/Dataset/Veriseti.csv')\n",
    "#check data has been read in properly\n",
    "train_df.head()"
   ]
  },
  {
   "cell_type": "code",
   "execution_count": 3,
   "metadata": {},
   "outputs": [
    {
     "data": {
      "text/html": [
       "<div>\n",
       "<style scoped>\n",
       "    .dataframe tbody tr th:only-of-type {\n",
       "        vertical-align: middle;\n",
       "    }\n",
       "\n",
       "    .dataframe tbody tr th {\n",
       "        vertical-align: top;\n",
       "    }\n",
       "\n",
       "    .dataframe thead th {\n",
       "        text-align: right;\n",
       "    }\n",
       "</style>\n",
       "<table border=\"1\" class=\"dataframe\">\n",
       "  <thead>\n",
       "    <tr style=\"text-align: right;\">\n",
       "      <th></th>\n",
       "      <th>Autocorrelation</th>\n",
       "      <th>Contrast</th>\n",
       "      <th>Correlation</th>\n",
       "      <th>ClusterProminence</th>\n",
       "      <th>ClusterShade</th>\n",
       "      <th>Dissimilarity</th>\n",
       "      <th>Energy</th>\n",
       "      <th>Entropy</th>\n",
       "      <th>Homogeneity</th>\n",
       "      <th>MaximumProbability</th>\n",
       "      <th>Variance</th>\n",
       "      <th>Kurtosis</th>\n",
       "      <th>Skewness</th>\n",
       "      <th>Mean</th>\n",
       "      <th>StandartDeviation</th>\n",
       "      <th>RMS</th>\n",
       "    </tr>\n",
       "  </thead>\n",
       "  <tbody>\n",
       "    <tr>\n",
       "      <th>0</th>\n",
       "      <td>4.854814</td>\n",
       "      <td>0.182667</td>\n",
       "      <td>0.945454</td>\n",
       "      <td>211.385247</td>\n",
       "      <td>26.411996</td>\n",
       "      <td>0.135570</td>\n",
       "      <td>0.425349</td>\n",
       "      <td>1.535685</td>\n",
       "      <td>0.938705</td>\n",
       "      <td>0.635355</td>\n",
       "      <td>4.889867</td>\n",
       "      <td>4.003269</td>\n",
       "      <td>1.344533</td>\n",
       "      <td>32.611042</td>\n",
       "      <td>47.105240</td>\n",
       "      <td>10.050342</td>\n",
       "    </tr>\n",
       "    <tr>\n",
       "      <th>1</th>\n",
       "      <td>3.276670</td>\n",
       "      <td>0.114522</td>\n",
       "      <td>0.942021</td>\n",
       "      <td>161.956366</td>\n",
       "      <td>19.688291</td>\n",
       "      <td>0.086642</td>\n",
       "      <td>0.476887</td>\n",
       "      <td>1.245438</td>\n",
       "      <td>0.960666</td>\n",
       "      <td>0.658931</td>\n",
       "      <td>3.286307</td>\n",
       "      <td>7.513100</td>\n",
       "      <td>1.968529</td>\n",
       "      <td>24.393337</td>\n",
       "      <td>37.242781</td>\n",
       "      <td>9.766383</td>\n",
       "    </tr>\n",
       "    <tr>\n",
       "      <th>2</th>\n",
       "      <td>4.814982</td>\n",
       "      <td>0.175214</td>\n",
       "      <td>0.943163</td>\n",
       "      <td>156.388801</td>\n",
       "      <td>20.823589</td>\n",
       "      <td>0.141368</td>\n",
       "      <td>0.384039</td>\n",
       "      <td>1.608861</td>\n",
       "      <td>0.934307</td>\n",
       "      <td>0.598212</td>\n",
       "      <td>4.845540</td>\n",
       "      <td>3.656900</td>\n",
       "      <td>1.208342</td>\n",
       "      <td>33.584270</td>\n",
       "      <td>44.876064</td>\n",
       "      <td>10.599269</td>\n",
       "    </tr>\n",
       "    <tr>\n",
       "      <th>3</th>\n",
       "      <td>5.304841</td>\n",
       "      <td>0.172112</td>\n",
       "      <td>0.949841</td>\n",
       "      <td>194.125504</td>\n",
       "      <td>23.646399</td>\n",
       "      <td>0.134229</td>\n",
       "      <td>0.371940</td>\n",
       "      <td>1.622887</td>\n",
       "      <td>0.938532</td>\n",
       "      <td>0.579090</td>\n",
       "      <td>5.331232</td>\n",
       "      <td>3.564394</td>\n",
       "      <td>1.144827</td>\n",
       "      <td>36.362152</td>\n",
       "      <td>47.390626</td>\n",
       "      <td>10.686207</td>\n",
       "    </tr>\n",
       "    <tr>\n",
       "      <th>4</th>\n",
       "      <td>4.814698</td>\n",
       "      <td>0.155377</td>\n",
       "      <td>0.944951</td>\n",
       "      <td>127.991536</td>\n",
       "      <td>16.712057</td>\n",
       "      <td>0.124962</td>\n",
       "      <td>0.352423</td>\n",
       "      <td>1.610988</td>\n",
       "      <td>0.941825</td>\n",
       "      <td>0.557698</td>\n",
       "      <td>4.834325</td>\n",
       "      <td>3.442860</td>\n",
       "      <td>1.052722</td>\n",
       "      <td>34.836880</td>\n",
       "      <td>43.428109</td>\n",
       "      <td>10.892309</td>\n",
       "    </tr>\n",
       "  </tbody>\n",
       "</table>\n",
       "</div>"
      ],
      "text/plain": [
       "   Autocorrelation  Contrast  Correlation  ClusterProminence  ClusterShade  \\\n",
       "0         4.854814  0.182667     0.945454         211.385247     26.411996   \n",
       "1         3.276670  0.114522     0.942021         161.956366     19.688291   \n",
       "2         4.814982  0.175214     0.943163         156.388801     20.823589   \n",
       "3         5.304841  0.172112     0.949841         194.125504     23.646399   \n",
       "4         4.814698  0.155377     0.944951         127.991536     16.712057   \n",
       "\n",
       "   Dissimilarity    Energy   Entropy  Homogeneity  MaximumProbability  \\\n",
       "0       0.135570  0.425349  1.535685     0.938705            0.635355   \n",
       "1       0.086642  0.476887  1.245438     0.960666            0.658931   \n",
       "2       0.141368  0.384039  1.608861     0.934307            0.598212   \n",
       "3       0.134229  0.371940  1.622887     0.938532            0.579090   \n",
       "4       0.124962  0.352423  1.610988     0.941825            0.557698   \n",
       "\n",
       "   Variance  Kurtosis  Skewness       Mean  StandartDeviation        RMS  \n",
       "0  4.889867  4.003269  1.344533  32.611042          47.105240  10.050342  \n",
       "1  3.286307  7.513100  1.968529  24.393337          37.242781   9.766383  \n",
       "2  4.845540  3.656900  1.208342  33.584270          44.876064  10.599269  \n",
       "3  5.331232  3.564394  1.144827  36.362152          47.390626  10.686207  \n",
       "4  4.834325  3.442860  1.052722  34.836880          43.428109  10.892309  "
      ]
     },
     "execution_count": 3,
     "metadata": {},
     "output_type": "execute_result"
    }
   ],
   "source": [
    "#create a dataframe with all training data except the target column\n",
    "train_X = train_df.drop(columns=['Type'])\n",
    "\n",
    "#check that the target variable has been removed\n",
    "train_X.head()"
   ]
  },
  {
   "cell_type": "code",
   "execution_count": 4,
   "metadata": {},
   "outputs": [
    {
     "data": {
      "text/html": [
       "<div>\n",
       "<style scoped>\n",
       "    .dataframe tbody tr th:only-of-type {\n",
       "        vertical-align: middle;\n",
       "    }\n",
       "\n",
       "    .dataframe tbody tr th {\n",
       "        vertical-align: top;\n",
       "    }\n",
       "\n",
       "    .dataframe thead th {\n",
       "        text-align: right;\n",
       "    }\n",
       "</style>\n",
       "<table border=\"1\" class=\"dataframe\">\n",
       "  <thead>\n",
       "    <tr style=\"text-align: right;\">\n",
       "      <th></th>\n",
       "      <th>Type</th>\n",
       "    </tr>\n",
       "  </thead>\n",
       "  <tbody>\n",
       "    <tr>\n",
       "      <th>0</th>\n",
       "      <td>1</td>\n",
       "    </tr>\n",
       "    <tr>\n",
       "      <th>1</th>\n",
       "      <td>1</td>\n",
       "    </tr>\n",
       "    <tr>\n",
       "      <th>2</th>\n",
       "      <td>1</td>\n",
       "    </tr>\n",
       "    <tr>\n",
       "      <th>3</th>\n",
       "      <td>1</td>\n",
       "    </tr>\n",
       "    <tr>\n",
       "      <th>4</th>\n",
       "      <td>1</td>\n",
       "    </tr>\n",
       "  </tbody>\n",
       "</table>\n",
       "</div>"
      ],
      "text/plain": [
       "   Type\n",
       "0     1\n",
       "1     1\n",
       "2     1\n",
       "3     1\n",
       "4     1"
      ]
     },
     "execution_count": 4,
     "metadata": {},
     "output_type": "execute_result"
    }
   ],
   "source": [
    "#create a dataframe with only the target column\n",
    "train_y = train_df[['Type']]\n",
    "\n",
    "#view dataframe\n",
    "train_y.head()"
   ]
  },
  {
   "cell_type": "code",
   "execution_count": 5,
   "metadata": {},
   "outputs": [
    {
     "name": "stdout",
     "output_type": "stream",
     "text": [
      "(2591, 16) (2591, 1)\n",
      "(458, 16) (458, 1)\n"
     ]
    }
   ],
   "source": [
    "from sklearn.model_selection import train_test_split\n",
    "# create training and testing vars\n",
    "X_train, X_test, y_train, y_test = train_test_split(train_X, train_y, test_size=0.15,shuffle=True,random_state=100)\n",
    "print (X_train.shape, y_train.shape)\n",
    "print (X_test.shape, y_test.shape)"
   ]
  },
  {
   "cell_type": "code",
   "execution_count": 6,
   "metadata": {},
   "outputs": [
    {
     "data": {
      "text/plain": [
       "(3049, 16)"
      ]
     },
     "execution_count": 6,
     "metadata": {},
     "output_type": "execute_result"
    }
   ],
   "source": [
    "train_X.shape"
   ]
  },
  {
   "cell_type": "code",
   "execution_count": 10,
   "metadata": {},
   "outputs": [
    {
     "name": "stdout",
     "output_type": "stream",
     "text": [
      "Tümör sayısı: 3\n"
     ]
    }
   ],
   "source": [
    "import numpy as np\n",
    "train_labels_flat = y_train.values.ravel()\n",
    "train_labels_count = np.unique(train_labels_flat).shape[0]\n",
    "print('Tümör sayısı: %d'%train_labels_count)"
   ]
  },
  {
   "cell_type": "code",
   "execution_count": 11,
   "metadata": {},
   "outputs": [],
   "source": [
    "def dense_to_one_hot(labels_dense, num_classes):\n",
    "    num_labels = labels_dense.shape[0]\n",
    "    index_offset = np.arange(num_labels) * num_classes\n",
    "    labels_one_hot = np.zeros((num_labels, num_classes))\n",
    "    labels_one_hot.flat[index_offset + labels_dense.ravel()] = 1\n",
    "    return labels_one_hot"
   ]
  },
  {
   "cell_type": "code",
   "execution_count": 12,
   "metadata": {},
   "outputs": [
    {
     "name": "stdout",
     "output_type": "stream",
     "text": [
      "(2591, 3)\n"
     ]
    }
   ],
   "source": [
    "y_train = dense_to_one_hot(train_labels_flat-1, train_labels_count)\n",
    "y_train = y_train.astype(np.uint8)\n",
    "\n",
    "print(y_train.shape)"
   ]
  },
  {
   "cell_type": "code",
   "execution_count": 13,
   "metadata": {},
   "outputs": [],
   "source": [
    "train_labels_flat = y_test.values.ravel()\n",
    "train_labels_count = np.unique(train_labels_flat).shape[0]"
   ]
  },
  {
   "cell_type": "code",
   "execution_count": 14,
   "metadata": {},
   "outputs": [
    {
     "name": "stdout",
     "output_type": "stream",
     "text": [
      "(458, 3)\n"
     ]
    }
   ],
   "source": [
    "y_test = dense_to_one_hot(train_labels_flat-1, train_labels_count)\n",
    "y_test = y_test.astype(np.uint8)\n",
    "\n",
    "print(y_test.shape)"
   ]
  },
  {
   "cell_type": "code",
   "execution_count": 15,
   "metadata": {},
   "outputs": [
    {
     "name": "stderr",
     "output_type": "stream",
     "text": [
      "C:\\Users\\ergin\\Anaconda3\\lib\\site-packages\\h5py\\__init__.py:36: FutureWarning: Conversion of the second argument of issubdtype from `float` to `np.floating` is deprecated. In future, it will be treated as `np.float64 == np.dtype(float).type`.\n",
      "  from ._conv import register_converters as _register_converters\n",
      "Using TensorFlow backend.\n"
     ]
    },
    {
     "name": "stdout",
     "output_type": "stream",
     "text": [
      "_________________________________________________________________\n",
      "Layer (type)                 Output Shape              Param #   \n",
      "=================================================================\n",
      "dense_1 (Dense)              (None, 16)                272       \n",
      "_________________________________________________________________\n",
      "activation_1 (Activation)    (None, 16)                0         \n",
      "_________________________________________________________________\n",
      "batch_normalization_1 (Batch (None, 16)                64        \n",
      "_________________________________________________________________\n",
      "dropout_1 (Dropout)          (None, 16)                0         \n",
      "_________________________________________________________________\n",
      "dense_2 (Dense)              (None, 9)                 153       \n",
      "_________________________________________________________________\n",
      "activation_2 (Activation)    (None, 9)                 0         \n",
      "_________________________________________________________________\n",
      "batch_normalization_2 (Batch (None, 9)                 36        \n",
      "_________________________________________________________________\n",
      "dropout_2 (Dropout)          (None, 9)                 0         \n",
      "_________________________________________________________________\n",
      "dense_3 (Dense)              (None, 6)                 60        \n",
      "_________________________________________________________________\n",
      "activation_3 (Activation)    (None, 6)                 0         \n",
      "_________________________________________________________________\n",
      "batch_normalization_3 (Batch (None, 6)                 24        \n",
      "_________________________________________________________________\n",
      "dropout_3 (Dropout)          (None, 6)                 0         \n",
      "_________________________________________________________________\n",
      "dense_4 (Dense)              (None, 3)                 21        \n",
      "=================================================================\n",
      "Total params: 630\n",
      "Trainable params: 568\n",
      "Non-trainable params: 62\n",
      "_________________________________________________________________\n"
     ]
    }
   ],
   "source": [
    "import keras \n",
    "from keras.models import Sequential\n",
    "from keras.layers import Dense,Dropout,BatchNormalization,Activation\n",
    "#create model\n",
    "model = Sequential()\n",
    "\n",
    "#get number of columns in training data\n",
    "n_cols = train_X.shape[1]\n",
    "\n",
    "#add model layers\n",
    "\n",
    "model.add(Dense(16, input_shape=(n_cols,)))\n",
    "model.add(Activation(\"relu\"))\n",
    "model.add(BatchNormalization())\n",
    "model.add(Dropout(0.5))\n",
    "\n",
    "model.add(Dense(9))\n",
    "model.add(Activation(\"relu\"))\n",
    "model.add(BatchNormalization())\n",
    "model.add(Dropout(0.5))\n",
    "\n",
    "model.add(Dense(6))\n",
    "model.add(Activation(\"relu\"))\n",
    "model.add(BatchNormalization())\n",
    "model.add(Dropout(0.5))\n",
    "\n",
    "model.add(Dense(3, activation='softmax'))\n",
    "model.summary()"
   ]
  },
  {
   "cell_type": "code",
   "execution_count": 16,
   "metadata": {},
   "outputs": [],
   "source": [
    "#compile model using mse as a measure of model performance\n",
    "model.compile(optimizer='adam', loss='categorical_crossentropy', metrics=['accuracy'])"
   ]
  },
  {
   "cell_type": "code",
   "execution_count": 17,
   "metadata": {
    "scrolled": true
   },
   "outputs": [
    {
     "name": "stdout",
     "output_type": "stream",
     "text": [
      "Train on 2591 samples, validate on 458 samples\n",
      "Epoch 1/5\n",
      "2591/2591 [==============================] - 6s 2ms/step - loss: 1.4957 - acc: 0.3524 - val_loss: 1.0947 - val_acc: 0.4520\n",
      "Epoch 2/5\n",
      "2591/2591 [==============================] - 2s 597us/step - loss: 1.2035 - acc: 0.4357 - val_loss: 1.0333 - val_acc: 0.4782\n",
      "Epoch 3/5\n",
      "2591/2591 [==============================] - 2s 588us/step - loss: 1.1055 - acc: 0.4581 - val_loss: 1.0098 - val_acc: 0.4716\n",
      "Epoch 4/5\n",
      "2591/2591 [==============================] - 1s 551us/step - loss: 1.0489 - acc: 0.4921 - val_loss: 0.9941 - val_acc: 0.4978\n",
      "Epoch 5/5\n",
      "2591/2591 [==============================] - 1s 516us/step - loss: 1.0257 - acc: 0.5187 - val_loss: 0.9950 - val_acc: 0.4869\n"
     ]
    }
   ],
   "source": [
    "from keras.callbacks import EarlyStopping, ModelCheckpoint\n",
    "# en başarılı ağırlıkları kaydet\n",
    "checkpointer = ModelCheckpoint(filepath='Downloads/Keras/BreastImageClassification.h5', verbose=1, save_best_only=True)\n",
    "\n",
    "#set early stopping monitor so the model stops training when it won't improve anymore\n",
    "#early_stopping_monitor = EarlyStopping(patience=3)\n",
    "#train model\n",
    "history =model.fit(X_train, \n",
    "                y_train,\n",
    "                validation_data=(X_test, y_test),\n",
    "                batch_size=16, \n",
    "                shuffle=True,\n",
    "                verbose=1,\n",
    "                epochs=5)\n",
    "\n",
    "\n"
   ]
  },
  {
   "cell_type": "code",
   "execution_count": 21,
   "metadata": {},
   "outputs": [
    {
     "data": {
      "image/png": "[encoded data removed]",
      "text/plain": [
       "<Figure size 1008x216 with 2 Axes>"
      ]
     },
     "metadata": {},
     "output_type": "display_data"
    }
   ],
   "source": [
    "from matplotlib import pyplot as plt\n",
    "\n",
    "# Plot training & validation accuracy values\n",
    "plt.figure(figsize=(14,3))\n",
    "plt.subplot(1, 2, 1)\n",
    "\n",
    "plt.plot(history.history['acc'])\n",
    "plt.plot(history.history['val_acc'])\n",
    "plt.title('Model accuracy')\n",
    "plt.ylabel('Accuracy')\n",
    "plt.xlabel('Epoch')\n",
    "plt.legend(['Train', 'Test'], loc='upper left')\n",
    "\n",
    "# Plot training & validation loss values\n",
    "plt.subplot(1, 2, 2)\n",
    "plt.plot(history.history['loss'])\n",
    "plt.plot(history.history['val_loss'])\n",
    "plt.title('Model loss')\n",
    "plt.ylabel('Loss')\n",
    "plt.xlabel('Epoch')\n",
    "plt.legend(['Train', 'Test'], loc='upper left')\n",
    "plt.show()"
   ]
  },
  {
   "cell_type": "code",
   "execution_count": 19,
   "metadata": {},
   "outputs": [
    {
     "name": "stdout",
     "output_type": "stream",
     "text": [
      "[[1 0 0]]\n"
     ]
    }
   ],
   "source": [
    "#example on how to use our newly trained model on how to make predictions on unseen data (we will pretend our new data is saved in a dataframe called 'test_X').\n",
    "results = model.predict(X_test.iloc[1:2])\n",
    "print(y_test[:1])"
   ]
  },
  {
   "cell_type": "code",
   "execution_count": 20,
   "metadata": {},
   "outputs": [
    {
     "data": {
      "image/png": "[encoded data removed]",
      "text/plain": [
       "<Figure size 432x288 with 1 Axes>"
      ]
     },
     "metadata": {},
     "output_type": "display_data"
    },
    {
     "name": "stdout",
     "output_type": "stream",
     "text": [
      "Tahmin sonucu: Meningioma\n",
      "Gerçek sonuç: Meningioma\n"
     ]
    }
   ],
   "source": [
    "results = model.predict(X_test.iloc[1:2])\n",
    "\n",
    "#sınıflarımız, 3 adet tümeör türü var\n",
    "class_names = ['Glioma', 'Meningioma', 'Patiutary']\n",
    "\n",
    "ind = 0.1+0.3*np.arange(len(class_names))\n",
    "width = 0.15  #bar genişliği\n",
    "\n",
    "color_list = ['blue','orangered','limegreen']\n",
    "\n",
    "#sonuçlarımızı renklendirelim\n",
    "for i in range(len(class_names)):\n",
    "  plt.bar(ind[i], results[0][i], width, color=color_list[i])\n",
    "  \n",
    "plt.title(\"Sınflandırma sonuçları \",fontsize=20)\n",
    "plt.ylabel(\" Sınıflandırma Skoru\",fontsize=16)\n",
    "plt.xticks(ind, class_names, rotation=0, fontsize=14)\n",
    "plt.show()\n",
    "\n",
    "print(\"Tahmin sonucu:\", class_names[np.argmax(results)])\n",
    "print(\"Gerçek sonuç:\",class_names[np.argmax(y_test[1:2])])"
   ]
  }
 ],
 "metadata": {
  "kernelspec": {
   "display_name": "Python 3",
   "language": "python",
   "name": "python3"
  },
  "language_info": {
   "codemirror_mode": {
    "name": "ipython",
    "version": 3
   },
   "file_extension": ".py",
   "mimetype": "text/x-python",
   "name": "python",
   "nbconvert_exporter": "python",
   "pygments_lexer": "ipython3",
   "version": "3.6.5"
  }
 },
 "nbformat": 4,
 "nbformat_minor": 2
}
